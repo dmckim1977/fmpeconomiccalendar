{
 "cells": [
  {
   "metadata": {},
   "cell_type": "markdown",
   "source": [
    "# FMPEconomicCalendar\n",
    "\n",
    "install with pip `pip install git+https://github.com/dmckim1977/`"
   ],
   "id": "925d42843fa7886"
  },
  {
   "metadata": {
    "ExecuteTime": {
     "end_time": "2024-09-16T19:17:48.239123Z",
     "start_time": "2024-09-16T19:17:48.230006Z"
    }
   },
   "cell_type": "code",
   "source": [
    "# Put fmpeconomiccalendar module in PYTHONPATH\n",
    "import sys\n",
    "\n",
    "sys.path.append('../src')"
   ],
   "id": "196b9a4b95ea290e",
   "outputs": [],
   "execution_count": 1
  },
  {
   "metadata": {
    "ExecuteTime": {
     "end_time": "2024-09-16T19:17:50.841727Z",
     "start_time": "2024-09-16T19:17:48.680276Z"
    }
   },
   "cell_type": "code",
   "source": [
    "# Imports\n",
    "import src.fmpeconomiccalendar as fmpeconomiccalendar"
   ],
   "id": "8cdc24021aa47a3b",
   "outputs": [
    {
     "name": "stderr",
     "output_type": "stream",
     "text": [
      "C:\\Users\\david\\Documents\\github\\public_repos\\FMPEconomicCalendar\\src\\fmpeconomiccalendar\\fmpclient.py:271: SyntaxWarning: invalid escape sequence '\\('\n",
      "  no_par = re.sub(\"[\\(\\[].*?[\\)\\]]\", \"\", string)\n"
     ]
    }
   ],
   "execution_count": 2
  },
  {
   "metadata": {
    "ExecuteTime": {
     "end_time": "2024-09-16T19:17:50.866513Z",
     "start_time": "2024-09-16T19:17:50.844773Z"
    }
   },
   "cell_type": "code",
   "source": [
    "# Load api key from .env file\n",
    "import os\n",
    "from dotenv import load_dotenv\n",
    "load_dotenv()\n",
    "FMP_API = os.getenv('FMP_API')"
   ],
   "id": "89e6b0a1aa69a00",
   "outputs": [],
   "execution_count": 3
  },
  {
   "metadata": {
    "ExecuteTime": {
     "end_time": "2024-09-16T19:17:50.876031Z",
     "start_time": "2024-09-16T19:17:50.869511Z"
    }
   },
   "cell_type": "code",
   "source": "print(fmpeconomiccalendar.__author__)",
   "id": "be3f8a1c281ae530",
   "outputs": [
    {
     "name": "stdout",
     "output_type": "stream",
     "text": [
      "David McKim\n"
     ]
    }
   ],
   "execution_count": 4
  },
  {
   "metadata": {
    "ExecuteTime": {
     "end_time": "2024-09-16T19:17:51.332932Z",
     "start_time": "2024-09-16T19:17:50.881558Z"
    }
   },
   "cell_type": "code",
   "source": "cal = fmpeconomiccalendar.Calendar(apikey=FMP_API, start_date=\"2024-09-18\", end_date=\"2024-09-19\")",
   "id": "9decee218365f312",
   "outputs": [],
   "execution_count": 5
  },
  {
   "metadata": {
    "ExecuteTime": {
     "end_time": "2024-09-16T19:17:51.339043Z",
     "start_time": "2024-09-16T19:17:51.334932Z"
    }
   },
   "cell_type": "code",
   "source": "# cal.to_csv(\"test.csv\")",
   "id": "cd60354fc8f86979",
   "outputs": [],
   "execution_count": 6
  },
  {
   "metadata": {
    "ExecuteTime": {
     "end_time": "2024-09-16T19:17:51.346065Z",
     "start_time": "2024-09-16T19:17:51.341017Z"
    }
   },
   "cell_type": "code",
   "source": "# cal.to_csv(\"test2.csv\", sep='|')",
   "id": "cb7184c275b2499c",
   "outputs": [],
   "execution_count": 7
  },
  {
   "metadata": {
    "ExecuteTime": {
     "end_time": "2024-09-16T19:17:53.478199Z",
     "start_time": "2024-09-16T19:17:53.454556Z"
    }
   },
   "cell_type": "code",
   "source": "cal.to_csv('test.csv', country=['US', 'CN'], impact='Low')",
   "id": "f1cc606b65ed2c22",
   "outputs": [],
   "execution_count": 8
  },
  {
   "metadata": {
    "ExecuteTime": {
     "end_time": "2024-09-16T19:18:12.776261Z",
     "start_time": "2024-09-16T19:18:12.731459Z"
    }
   },
   "cell_type": "code",
   "source": "cal.to_dict(country=['US', 'CN'], impact='Low')",
   "id": "1e0b97ad7dcba51e",
   "outputs": [
    {
     "data": {
      "text/plain": [
       "{'date': {12: Timestamp('2024-09-19 16:30:00-0400', tz='US/Eastern'),\n",
       "  15: Timestamp('2024-09-19 13:00:00-0400', tz='US/Eastern'),\n",
       "  16: Timestamp('2024-09-19 12:00:00-0400', tz='US/Eastern'),\n",
       "  17: Timestamp('2024-09-19 12:00:00-0400', tz='US/Eastern'),\n",
       "  18: Timestamp('2024-09-19 11:30:00-0400', tz='US/Eastern'),\n",
       "  19: Timestamp('2024-09-19 11:30:00-0400', tz='US/Eastern'),\n",
       "  23: Timestamp('2024-09-19 10:30:00-0400', tz='US/Eastern'),\n",
       "  26: Timestamp('2024-09-19 10:00:00-0400', tz='US/Eastern'),\n",
       "  34: Timestamp('2024-09-19 08:30:00-0400', tz='US/Eastern'),\n",
       "  35: Timestamp('2024-09-19 08:30:00-0400', tz='US/Eastern'),\n",
       "  36: Timestamp('2024-09-19 08:30:00-0400', tz='US/Eastern'),\n",
       "  37: Timestamp('2024-09-19 08:30:00-0400', tz='US/Eastern'),\n",
       "  39: Timestamp('2024-09-19 08:30:00-0400', tz='US/Eastern'),\n",
       "  115: Timestamp('2024-09-18 16:00:00-0400', tz='US/Eastern'),\n",
       "  116: Timestamp('2024-09-18 16:00:00-0400', tz='US/Eastern'),\n",
       "  123: Timestamp('2024-09-18 14:00:00-0400', tz='US/Eastern'),\n",
       "  124: Timestamp('2024-09-18 14:00:00-0400', tz='US/Eastern'),\n",
       "  125: Timestamp('2024-09-18 14:00:00-0400', tz='US/Eastern'),\n",
       "  126: Timestamp('2024-09-18 14:00:00-0400', tz='US/Eastern'),\n",
       "  127: Timestamp('2024-09-18 14:00:00-0400', tz='US/Eastern'),\n",
       "  135: Timestamp('2024-09-18 11:30:00-0400', tz='US/Eastern'),\n",
       "  136: Timestamp('2024-09-18 10:30:00-0400', tz='US/Eastern'),\n",
       "  137: Timestamp('2024-09-18 10:30:00-0400', tz='US/Eastern'),\n",
       "  138: Timestamp('2024-09-18 10:30:00-0400', tz='US/Eastern'),\n",
       "  139: Timestamp('2024-09-18 10:30:00-0400', tz='US/Eastern'),\n",
       "  141: Timestamp('2024-09-18 10:30:00-0400', tz='US/Eastern'),\n",
       "  142: Timestamp('2024-09-18 10:30:00-0400', tz='US/Eastern'),\n",
       "  144: Timestamp('2024-09-18 10:30:00-0400', tz='US/Eastern'),\n",
       "  161: Timestamp('2024-09-18 07:00:00-0400', tz='US/Eastern'),\n",
       "  164: Timestamp('2024-09-18 07:00:00-0400', tz='US/Eastern'),\n",
       "  165: Timestamp('2024-09-18 07:00:00-0400', tz='US/Eastern'),\n",
       "  166: Timestamp('2024-09-18 07:00:00-0400', tz='US/Eastern'),\n",
       "  167: Timestamp('2024-09-18 07:00:00-0400', tz='US/Eastern')},\n",
       " 'country': {12: 'US',\n",
       "  15: 'US',\n",
       "  16: 'US',\n",
       "  17: 'US',\n",
       "  18: 'US',\n",
       "  19: 'US',\n",
       "  23: 'US',\n",
       "  26: 'US',\n",
       "  34: 'US',\n",
       "  35: 'US',\n",
       "  36: 'US',\n",
       "  37: 'US',\n",
       "  39: 'US',\n",
       "  115: 'US',\n",
       "  116: 'US',\n",
       "  123: 'US',\n",
       "  124: 'US',\n",
       "  125: 'US',\n",
       "  126: 'US',\n",
       "  127: 'US',\n",
       "  135: 'US',\n",
       "  136: 'US',\n",
       "  137: 'US',\n",
       "  138: 'US',\n",
       "  139: 'US',\n",
       "  141: 'US',\n",
       "  142: 'US',\n",
       "  144: 'US',\n",
       "  161: 'US',\n",
       "  164: 'US',\n",
       "  165: 'US',\n",
       "  166: 'US',\n",
       "  167: 'US'},\n",
       " 'event': {12: 'Fed Balance Sheet (Sep/18)',\n",
       "  15: '10-Year TIPS Auction',\n",
       "  16: '15-Year Mortgage Rate (Sep/18)',\n",
       "  17: '30-Year Mortgage Rate (Sep/18)',\n",
       "  18: '8-Week Bill Auction',\n",
       "  19: '4-Week Bill Auction',\n",
       "  23: 'EIA Natural Gas Stocks Change (Sep/13)',\n",
       "  26: 'CB Leading Index MoM (Aug)',\n",
       "  34: 'Philly Fed Business Conditions (Sep)',\n",
       "  35: 'Philly Fed Prices Paid (Sep)',\n",
       "  36: 'Philly Fed CAPEX Index (Sep)',\n",
       "  37: 'Philly Fed Employment (Sep)',\n",
       "  39: 'Philly Fed New Orders (Sep)',\n",
       "  115: 'Overall Net Capital Flows (Jul)',\n",
       "  116: 'Foreign Bond Investment (Jul)',\n",
       "  123: 'Interest Rate Projection - 1st Yr',\n",
       "  124: 'Interest Rate Projection - 2nd Yr',\n",
       "  125: 'Interest Rate Projection - 3rd Yr',\n",
       "  126: 'Interest Rate Projection - Current',\n",
       "  127: 'Interest Rate Projection - Longer',\n",
       "  135: '17-Week Bill Auction',\n",
       "  136: 'EIA Gasoline Production Change (Sep/13)',\n",
       "  137: 'EIA Distillate Stocks Change (Sep/13)',\n",
       "  138: 'EIA Refinery Crude Runs Change (Sep/13)',\n",
       "  139: 'EIA Heating Oil Stocks Change (Sep/13)',\n",
       "  141: 'EIA Distillate Fuel Production Change (Sep/13)',\n",
       "  142: 'EIA Cushing Crude Oil Stocks Change (Sep/13)',\n",
       "  144: 'EIA Crude Oil Imports Change (Sep/13)',\n",
       "  161: 'MBA Mortgage Market Index (Sep/13)',\n",
       "  164: 'MBA 30-Year Mortgage Rate (Sep/13)',\n",
       "  165: 'MBA Mortgage Applications (Sep/13)',\n",
       "  166: 'MBA Mortgage Refinance Index (Sep/13)',\n",
       "  167: 'MBA Purchase Index (Sep/13)'},\n",
       " 'currency': {12: 'USD',\n",
       "  15: 'USD',\n",
       "  16: 'USD',\n",
       "  17: 'USD',\n",
       "  18: 'USD',\n",
       "  19: 'USD',\n",
       "  23: 'USD',\n",
       "  26: 'USD',\n",
       "  34: 'USD',\n",
       "  35: 'USD',\n",
       "  36: 'USD',\n",
       "  37: 'USD',\n",
       "  39: 'USD',\n",
       "  115: 'USD',\n",
       "  116: 'USD',\n",
       "  123: 'USD',\n",
       "  124: 'USD',\n",
       "  125: 'USD',\n",
       "  126: 'USD',\n",
       "  127: 'USD',\n",
       "  135: 'USD',\n",
       "  136: 'USD',\n",
       "  137: 'USD',\n",
       "  138: 'USD',\n",
       "  139: 'USD',\n",
       "  141: 'USD',\n",
       "  142: 'USD',\n",
       "  144: 'USD',\n",
       "  161: 'USD',\n",
       "  164: 'USD',\n",
       "  165: 'USD',\n",
       "  166: 'USD',\n",
       "  167: 'USD'},\n",
       " 'previous': {12: 7.11,\n",
       "  15: 1.883,\n",
       "  16: 5.27,\n",
       "  17: 6.2,\n",
       "  18: 4.99,\n",
       "  19: 4.965,\n",
       "  23: 40.0,\n",
       "  26: -0.6,\n",
       "  34: 15.4,\n",
       "  35: 24.0,\n",
       "  36: 12.0,\n",
       "  37: -5.7,\n",
       "  39: 14.6,\n",
       "  115: 107.5,\n",
       "  116: 9.8,\n",
       "  123: 4.1,\n",
       "  124: 3.1,\n",
       "  125: 2.9,\n",
       "  126: 5.1,\n",
       "  127: 2.8,\n",
       "  135: 4.74,\n",
       "  136: -0.371,\n",
       "  137: 2.308,\n",
       "  138: -0.141,\n",
       "  139: -0.695,\n",
       "  141: 0.04,\n",
       "  142: -1.704,\n",
       "  144: 1.526,\n",
       "  161: 233.7,\n",
       "  164: 6.29,\n",
       "  165: 1.4,\n",
       "  166: 757.8,\n",
       "  167: 138.6},\n",
       " 'estimate': {12: nan,\n",
       "  15: nan,\n",
       "  16: nan,\n",
       "  17: nan,\n",
       "  18: nan,\n",
       "  19: nan,\n",
       "  23: nan,\n",
       "  26: -0.3,\n",
       "  34: nan,\n",
       "  35: nan,\n",
       "  36: nan,\n",
       "  37: nan,\n",
       "  39: nan,\n",
       "  115: nan,\n",
       "  116: nan,\n",
       "  123: nan,\n",
       "  124: nan,\n",
       "  125: nan,\n",
       "  126: nan,\n",
       "  127: nan,\n",
       "  135: nan,\n",
       "  136: nan,\n",
       "  137: nan,\n",
       "  138: nan,\n",
       "  139: nan,\n",
       "  141: nan,\n",
       "  142: nan,\n",
       "  144: nan,\n",
       "  161: nan,\n",
       "  164: nan,\n",
       "  165: nan,\n",
       "  166: nan,\n",
       "  167: nan},\n",
       " 'actual': {12: None,\n",
       "  15: None,\n",
       "  16: None,\n",
       "  17: None,\n",
       "  18: None,\n",
       "  19: None,\n",
       "  23: None,\n",
       "  26: None,\n",
       "  34: None,\n",
       "  35: None,\n",
       "  36: None,\n",
       "  37: None,\n",
       "  39: None,\n",
       "  115: None,\n",
       "  116: None,\n",
       "  123: None,\n",
       "  124: None,\n",
       "  125: None,\n",
       "  126: None,\n",
       "  127: None,\n",
       "  135: None,\n",
       "  136: None,\n",
       "  137: None,\n",
       "  138: None,\n",
       "  139: None,\n",
       "  141: None,\n",
       "  142: None,\n",
       "  144: None,\n",
       "  161: None,\n",
       "  164: None,\n",
       "  165: None,\n",
       "  166: None,\n",
       "  167: None},\n",
       " 'change': {12: None,\n",
       "  15: None,\n",
       "  16: None,\n",
       "  17: None,\n",
       "  18: None,\n",
       "  19: None,\n",
       "  23: None,\n",
       "  26: None,\n",
       "  34: None,\n",
       "  35: None,\n",
       "  36: None,\n",
       "  37: None,\n",
       "  39: None,\n",
       "  115: None,\n",
       "  116: None,\n",
       "  123: None,\n",
       "  124: None,\n",
       "  125: None,\n",
       "  126: None,\n",
       "  127: None,\n",
       "  135: None,\n",
       "  136: None,\n",
       "  137: None,\n",
       "  138: None,\n",
       "  139: None,\n",
       "  141: None,\n",
       "  142: None,\n",
       "  144: None,\n",
       "  161: None,\n",
       "  164: None,\n",
       "  165: None,\n",
       "  166: None,\n",
       "  167: None},\n",
       " 'impact': {12: 'Low',\n",
       "  15: 'Low',\n",
       "  16: 'Low',\n",
       "  17: 'Low',\n",
       "  18: 'Low',\n",
       "  19: 'Low',\n",
       "  23: 'Low',\n",
       "  26: 'Low',\n",
       "  34: 'Low',\n",
       "  35: 'Low',\n",
       "  36: 'Low',\n",
       "  37: 'Low',\n",
       "  39: 'Low',\n",
       "  115: 'Low',\n",
       "  116: 'Low',\n",
       "  123: 'Low',\n",
       "  124: 'Low',\n",
       "  125: 'Low',\n",
       "  126: 'Low',\n",
       "  127: 'Low',\n",
       "  135: 'Low',\n",
       "  136: 'Low',\n",
       "  137: 'Low',\n",
       "  138: 'Low',\n",
       "  139: 'Low',\n",
       "  141: 'Low',\n",
       "  142: 'Low',\n",
       "  144: 'Low',\n",
       "  161: 'Low',\n",
       "  164: 'Low',\n",
       "  165: 'Low',\n",
       "  166: 'Low',\n",
       "  167: 'Low'},\n",
       " 'changePercentage': {12: 0,\n",
       "  15: 0,\n",
       "  16: 0,\n",
       "  17: 0,\n",
       "  18: 0,\n",
       "  19: 0,\n",
       "  23: 0,\n",
       "  26: 0,\n",
       "  34: 0,\n",
       "  35: 0,\n",
       "  36: 0,\n",
       "  37: 0,\n",
       "  39: 0,\n",
       "  115: 0,\n",
       "  116: 0,\n",
       "  123: 0,\n",
       "  124: 0,\n",
       "  125: 0,\n",
       "  126: 0,\n",
       "  127: 0,\n",
       "  135: 0,\n",
       "  136: 0,\n",
       "  137: 0,\n",
       "  138: 0,\n",
       "  139: 0,\n",
       "  141: 0,\n",
       "  142: 0,\n",
       "  144: 0,\n",
       "  161: 0,\n",
       "  164: 0,\n",
       "  165: 0,\n",
       "  166: 0,\n",
       "  167: 0},\n",
       " 'unit': {12: 'T',\n",
       "  15: '%',\n",
       "  16: '%',\n",
       "  17: '%',\n",
       "  18: '%',\n",
       "  19: '%',\n",
       "  23: 'B',\n",
       "  26: '%',\n",
       "  34: '',\n",
       "  35: '',\n",
       "  36: '',\n",
       "  37: '',\n",
       "  39: '',\n",
       "  115: 'B',\n",
       "  116: 'B',\n",
       "  123: '%',\n",
       "  124: '%',\n",
       "  125: '%',\n",
       "  126: '%',\n",
       "  127: '%',\n",
       "  135: '%',\n",
       "  136: 'M',\n",
       "  137: 'M',\n",
       "  138: 'M',\n",
       "  139: 'M',\n",
       "  141: 'M',\n",
       "  142: 'M',\n",
       "  144: 'M',\n",
       "  161: '',\n",
       "  164: '%',\n",
       "  165: '%',\n",
       "  166: '',\n",
       "  167: ''}}"
      ]
     },
     "execution_count": 9,
     "metadata": {},
     "output_type": "execute_result"
    }
   ],
   "execution_count": 9
  },
  {
   "metadata": {},
   "cell_type": "code",
   "outputs": [],
   "execution_count": null,
   "source": "",
   "id": "f1ed6cf9ed5bce74"
  },
  {
   "metadata": {
    "ExecuteTime": {
     "end_time": "2024-09-16T19:52:49.282053Z",
     "start_time": "2024-09-16T19:52:49.258295Z"
    }
   },
   "cell_type": "code",
   "source": [
    "class Client:\n",
    "    def __init__(self, apikey=None):\n",
    "        self.apikey = apikey\n",
    "        \n",
    "class Downloader(Client):\n",
    "    def __init__(self):\n",
    "        pass"
   ],
   "id": "e2349ae5d1d4bb99",
   "outputs": [],
   "execution_count": 11
  },
  {
   "metadata": {
    "ExecuteTime": {
     "end_time": "2024-09-16T19:52:55.715629Z",
     "start_time": "2024-09-16T19:52:55.708916Z"
    }
   },
   "cell_type": "code",
   "source": "Downloader()",
   "id": "41756684f915a4a7",
   "outputs": [
    {
     "data": {
      "text/plain": [
       "<__main__.Downloader at 0x1926bbc4ec0>"
      ]
     },
     "execution_count": 12,
     "metadata": {},
     "output_type": "execute_result"
    }
   ],
   "execution_count": 12
  },
  {
   "metadata": {},
   "cell_type": "code",
   "outputs": [],
   "execution_count": null,
   "source": "",
   "id": "4535ff88d3668954"
  }
 ],
 "metadata": {
  "kernelspec": {
   "display_name": "Python 3",
   "language": "python",
   "name": "python3"
  },
  "language_info": {
   "codemirror_mode": {
    "name": "ipython",
    "version": 2
   },
   "file_extension": ".py",
   "mimetype": "text/x-python",
   "name": "python",
   "nbconvert_exporter": "python",
   "pygments_lexer": "ipython2",
   "version": "2.7.6"
  }
 },
 "nbformat": 4,
 "nbformat_minor": 5
}
